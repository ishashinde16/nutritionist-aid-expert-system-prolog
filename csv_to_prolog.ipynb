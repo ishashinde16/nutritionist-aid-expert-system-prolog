{
 "cells": [
  {
   "cell_type": "code",
   "execution_count": 5,
   "metadata": {},
   "outputs": [],
   "source": [
    "import pandas as pd\n",
    "\n",
    "# Load dataset\n",
    "df = pd.read_csv(\"./Indian_Food_Nutrition_Processed.csv\")\n",
    "\n",
    "# Clean column names for safety\n",
    "df.columns = [col.strip().lower().replace(' ', '_').replace('(', '').replace(')', '').replace('µg', 'mcg') for col in df.columns]\n",
    "\n",
    "with open(\"food_db.pl\", \"w\") as f:\n",
    "    for _, row in df.iterrows():\n",
    "        # Sanitize dish name\n",
    "        name = row['dish_name'].strip().lower().replace(' ', '_').replace('-', '_').replace(\"'\", \"\")\n",
    "        \n",
    "        # Extract values with fallback for missing (NaN) entries\n",
    "        cal = row.get('calories_kcal', 0)\n",
    "        carbs = row.get('carbohydrates_g', 0)\n",
    "        protein = row.get('protein_g', 0)\n",
    "        fat = row.get('fats_g', 0)\n",
    "        sugar = row.get('free_sugar_g', 0)\n",
    "        fiber = row.get('fibre_g', 0)\n",
    "        sodium = row.get('sodium_mg', 0)\n",
    "        calcium = row.get('calcium_mg', 0)\n",
    "        iron = row.get('iron_mg', 0)\n",
    "        vit_c = row.get('vitamin_c_mg', 0)\n",
    "        folate = row.get('folate_mcg', 0)\n",
    "\n",
    "        # Write Prolog fact\n",
    "        f.write(\n",
    "            f\"food('{name}', {cal}, \"\n",
    "            f\"[carbs:{carbs}, protein:{protein}, fat:{fat}, sugar:{sugar}, fiber:{fiber}], \"\n",
    "            f\"[sodium:{sodium}, calcium:{calcium}, iron:{iron}, vitamin_c:{vit_c}, folate:{folate}]).\\n\"\n",
    "        )\n"
   ]
  }
 ],
 "metadata": {
  "kernelspec": {
   "display_name": "Python 3",
   "language": "python",
   "name": "python3"
  },
  "language_info": {
   "codemirror_mode": {
    "name": "ipython",
    "version": 3
   },
   "file_extension": ".py",
   "mimetype": "text/x-python",
   "name": "python",
   "nbconvert_exporter": "python",
   "pygments_lexer": "ipython3",
   "version": "3.10.7"
  },
  "orig_nbformat": 4,
  "vscode": {
   "interpreter": {
    "hash": "aee8b7b246df8f9039afb4144a1f6fd8d2ca17a180786b69acc140d282b71a49"
   }
  }
 },
 "nbformat": 4,
 "nbformat_minor": 2
}

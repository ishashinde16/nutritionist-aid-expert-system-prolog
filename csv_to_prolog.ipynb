{
 "cells": [
  {
   "cell_type": "code",
   "execution_count": 7,
   "metadata": {},
   "outputs": [],
   "source": [
    "import pandas as pd\n",
    "\n",
    "# Load dataset\n",
    "df = pd.read_csv(\"./Indian_Food_Nutrition_Processed.csv\")\n",
    "\n",
    "# Clean column names for safety\n",
    "df.columns = [col.strip().lower().replace(' ', '_').replace('(', '').replace(')', '').replace('µg', 'mcg') for col in df.columns]\n",
    "\n",
    "with open(\"food_db.pl\", \"w\") as f:\n",
    "    for _, row in df.iterrows():\n",
    "        # Sanitize dish name\n",
    "        name = row['dish_name'].strip().lower().replace(' ', '_').replace('-', '_').replace(\"'\", \"\")\n",
    "        \n",
    "        # Extract values with fallback for missing (NaN) entries\n",
    "        cal = row.get('calories_kcal', 0)\n",
    "        carbs = row.get('carbohydrates_g', 0)\n",
    "        protein = row.get('protein_g', 0)\n",
    "        fat = row.get('fats_g', 0)\n",
    "        sugar = row.get('free_sugar_g', 0)\n",
    "        fiber = row.get('fibre_g', 0)\n",
    "        sodium = row.get('sodium_mg', 0)\n",
    "        calcium = row.get('calcium_mg', 0)\n",
    "        iron = row.get('iron_mg', 0)\n",
    "        vit_c = row.get('vitamin_c_mg', 0)\n",
    "        folate = row.get('folate_mcg', 0)\n",
    "\n",
    "        # Write Prolog fact\n",
    "        f.write(\n",
    "            f\"food('{name}', {cal}, \"\n",
    "            f\"[carbs:{carbs}, protein:{protein}, fat:{fat}, sugar:{sugar}, fiber:{fiber}], \"\n",
    "            f\"[sodium:{sodium}, calcium:{calcium}, iron:{iron}, vitamin_c:{vit_c}, folate:{folate}]).\\n\"\n",
    "        )\n"
   ]
  },
  {
   "cell_type": "code",
   "execution_count": 14,
   "metadata": {},
   "outputs": [
    {
     "name": "stdout",
     "output_type": "stream",
     "text": [
      "Prolog knowledge base created successfully as 'substitutions.pl'\n"
     ]
    }
   ],
   "source": [
    "import csv\n",
    "\n",
    "# Input CSV file and output Prolog file\n",
    "csv_file = './final_substitution.csv'\n",
    "prolog_file = 'substitutions.pl'\n",
    "\n",
    "# Safe cleaning\n",
    "def safe_prolog_atom(atom):\n",
    "    atom = atom.strip().lower().replace(' ', '_')\n",
    "    atom = atom.replace(\"'\", \"''\")\n",
    "    return atom\n",
    "\n",
    "# Open files\n",
    "with open(csv_file, mode='r', encoding='utf-8') as infile, open(prolog_file, mode='w', encoding='utf-8') as outfile:\n",
    "    reader = csv.DictReader(infile)\n",
    "    \n",
    "    for row in reader:\n",
    "        food = safe_prolog_atom(row['Food label'])\n",
    "        sub = safe_prolog_atom(row['Substitution label'])\n",
    "        \n",
    "        # Write Prolog fact with quotes\n",
    "        outfile.write(f\"substitute('{food}', '{sub}').\\n\")\n",
    "\n",
    "print(\"Prolog knowledge base created successfully as 'substitutions.pl'\")\n"
   ]
  }
 ],
 "metadata": {
  "kernelspec": {
   "display_name": "Python 3",
   "language": "python",
   "name": "python3"
  },
  "language_info": {
   "codemirror_mode": {
    "name": "ipython",
    "version": 3
   },
   "file_extension": ".py",
   "mimetype": "text/x-python",
   "name": "python",
   "nbconvert_exporter": "python",
   "pygments_lexer": "ipython3",
   "version": "3.10.7"
  },
  "orig_nbformat": 4,
  "vscode": {
   "interpreter": {
    "hash": "aee8b7b246df8f9039afb4144a1f6fd8d2ca17a180786b69acc140d282b71a49"
   }
  }
 },
 "nbformat": 4,
 "nbformat_minor": 2
}
